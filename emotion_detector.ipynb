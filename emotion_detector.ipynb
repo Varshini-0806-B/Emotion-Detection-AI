# Step 1: Import libraries
import pandas as pd
import seaborn as sns
import matplotlib.pyplot as plt
from sklearn.feature_extraction.text import CountVectorizer
from sklearn.naive_bayes import MultinomialNB
from sklearn.metrics import accuracy_score, confusion_matrix, classification_report

# Step 2: Load data
def load_data(filename):
    texts = []
    labels = []
    with open(filename, 'r') as file:
        for line in file:
            parts = line.strip().split(';')
            if len(parts) == 2:
                texts.append(parts[0])
                labels.append(parts[1])
    return pd.DataFrame({'text': texts, 'emotion': labels})

train_df = load_data('train.txt')
test_df = load_data('test.txt')

# Step 3: Visualize data
sns.countplot(data=train_df, x='emotion')
plt.title("Emotion Distribution")
plt.xticks(rotation=45)
plt.show()

# Step 4: Text vectorization
vectorizer = CountVectorizer()
X_train = vectorizer.fit_transform(train_df['text'])
X_test = vectorizer.transform(test_df['text'])

# Step 5: Train model
model = MultinomialNB()
model.fit(X_train, train_df['emotion'])

# Step 6: Predict
y_pred = model.predict(X_test)

# Step 7: Evaluate
print("Accuracy:", accuracy_score(test_df['emotion'], y_pred))
print("Classification Report:\n", classification_report(test_df['emotion'], y_pred))

# Confusion Matrix
conf_matrix = confusion_matrix(test_df['emotion'], y_pred)
sns.heatmap(conf_matrix, annot=True, fmt="d", cmap='Blues')
plt.title("Confusion Matrix")
plt.xlabel("Predicted")
plt.ylabel("Actual")
plt.show()

# Step 8: Test with your own sentence
def predict_emotion(text):
    vec = vectorizer.transform([text])
    return model.predict(vec)[0]

print("Custom Prediction:", predict_emotion("I am feeling very sad today"))
